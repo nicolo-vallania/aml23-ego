{
  "cells": [
    {
      "cell_type": "markdown",
      "metadata": {
        "id": "view-in-github"
      },
      "source": [
        "<a href=\"https://colab.research.google.com/github/EgovisionPolito/aml23-ego/blob/master/colab_runner.ipynb\" target=\"_parent\"><img src=\"https://colab.research.google.com/assets/colab-badge.svg\" alt=\"Open In Colab\"/></a>"
      ]
    },
    {
      "cell_type": "markdown",
      "metadata": {
        "id": "E_Z-lt-t10Qc"
      },
      "source": [
        "# Training different models"
      ]
    },
    {
      "cell_type": "code",
      "execution_count": 1,
      "metadata": {
        "colab": {
          "base_uri": "https://localhost:8080/",
          "height": 1000
        },
        "id": "EGS9AJde10Qc",
        "outputId": "c2608363-b464-4bde-f4ad-1c2a9970be71"
      },
      "outputs": [
        {
          "name": "stdout",
          "output_type": "stream",
          "text": [
            "Cloning into 'aml23-ego'...\n",
            "remote: Enumerating objects: 158, done.\u001b[K\n",
            "remote: Counting objects: 100% (51/51), done.\u001b[K\n",
            "remote: Compressing objects: 100% (48/48), done.\u001b[K\n",
            "remote: Total 158 (delta 15), reused 22 (delta 3), pack-reused 107 (from 1)\u001b[K\n",
            "Receiving objects: 100% (158/158), 1.17 GiB | 28.21 MiB/s, done.\n",
            "Resolving deltas: 100% (38/38), done.\n",
            "Updating files: 100% (67/67), done.\n",
            "Collecting omegaconf\n",
            "  Downloading omegaconf-2.3.0-py3-none-any.whl.metadata (3.9 kB)\n",
            "Collecting coloredlogs\n",
            "  Downloading coloredlogs-15.0.1-py2.py3-none-any.whl.metadata (12 kB)\n",
            "Collecting wandb\n",
            "  Downloading wandb-0.17.7-py3-none-manylinux_2_17_x86_64.manylinux2014_x86_64.whl.metadata (10 kB)\n",
            "Collecting antlr4-python3-runtime==4.9.* (from omegaconf)\n",
            "  Downloading antlr4-python3-runtime-4.9.3.tar.gz (117 kB)\n",
            "\u001b[2K     \u001b[90m━━━━━━━━━━━━━━━━━━━━━━━━━━━━━━━━━━━━━━━━\u001b[0m \u001b[32m117.0/117.0 kB\u001b[0m \u001b[31m4.9 MB/s\u001b[0m eta \u001b[36m0:00:00\u001b[0m\n",
            "\u001b[?25h  Preparing metadata (setup.py) ... \u001b[?25l\u001b[?25hdone\n",
            "Requirement already satisfied: PyYAML>=5.1.0 in /usr/local/lib/python3.10/dist-packages (from omegaconf) (6.0.2)\n",
            "Collecting humanfriendly>=9.1 (from coloredlogs)\n",
            "  Downloading humanfriendly-10.0-py2.py3-none-any.whl.metadata (9.2 kB)\n",
            "Requirement already satisfied: click!=8.0.0,>=7.1 in /usr/local/lib/python3.10/dist-packages (from wandb) (8.1.7)\n",
            "Collecting docker-pycreds>=0.4.0 (from wandb)\n",
            "  Downloading docker_pycreds-0.4.0-py2.py3-none-any.whl.metadata (1.8 kB)\n",
            "Collecting gitpython!=3.1.29,>=1.0.0 (from wandb)\n",
            "  Downloading GitPython-3.1.43-py3-none-any.whl.metadata (13 kB)\n",
            "Requirement already satisfied: platformdirs in /usr/local/lib/python3.10/dist-packages (from wandb) (4.2.2)\n",
            "Requirement already satisfied: protobuf!=4.21.0,<6,>=3.19.0 in /usr/local/lib/python3.10/dist-packages (from wandb) (3.20.3)\n",
            "Requirement already satisfied: psutil>=5.0.0 in /usr/local/lib/python3.10/dist-packages (from wandb) (5.9.5)\n",
            "Requirement already satisfied: requests<3,>=2.0.0 in /usr/local/lib/python3.10/dist-packages (from wandb) (2.32.3)\n",
            "Collecting sentry-sdk>=1.0.0 (from wandb)\n",
            "  Downloading sentry_sdk-2.13.0-py2.py3-none-any.whl.metadata (9.7 kB)\n",
            "Collecting setproctitle (from wandb)\n",
            "  Downloading setproctitle-1.3.3-cp310-cp310-manylinux_2_5_x86_64.manylinux1_x86_64.manylinux_2_17_x86_64.manylinux2014_x86_64.whl.metadata (9.9 kB)\n",
            "Requirement already satisfied: setuptools in /usr/local/lib/python3.10/dist-packages (from wandb) (71.0.4)\n",
            "Requirement already satisfied: six>=1.4.0 in /usr/local/lib/python3.10/dist-packages (from docker-pycreds>=0.4.0->wandb) (1.16.0)\n",
            "Collecting gitdb<5,>=4.0.1 (from gitpython!=3.1.29,>=1.0.0->wandb)\n",
            "  Downloading gitdb-4.0.11-py3-none-any.whl.metadata (1.2 kB)\n",
            "Requirement already satisfied: charset-normalizer<4,>=2 in /usr/local/lib/python3.10/dist-packages (from requests<3,>=2.0.0->wandb) (3.3.2)\n",
            "Requirement already satisfied: idna<4,>=2.5 in /usr/local/lib/python3.10/dist-packages (from requests<3,>=2.0.0->wandb) (3.7)\n",
            "Requirement already satisfied: urllib3<3,>=1.21.1 in /usr/local/lib/python3.10/dist-packages (from requests<3,>=2.0.0->wandb) (2.0.7)\n",
            "Requirement already satisfied: certifi>=2017.4.17 in /usr/local/lib/python3.10/dist-packages (from requests<3,>=2.0.0->wandb) (2024.7.4)\n",
            "Collecting smmap<6,>=3.0.1 (from gitdb<5,>=4.0.1->gitpython!=3.1.29,>=1.0.0->wandb)\n",
            "  Downloading smmap-5.0.1-py3-none-any.whl.metadata (4.3 kB)\n",
            "Downloading omegaconf-2.3.0-py3-none-any.whl (79 kB)\n",
            "\u001b[2K   \u001b[90m━━━━━━━━━━━━━━━━━━━━━━━━━━━━━━━━━━━━━━━━\u001b[0m \u001b[32m79.5/79.5 kB\u001b[0m \u001b[31m7.6 MB/s\u001b[0m eta \u001b[36m0:00:00\u001b[0m\n",
            "\u001b[?25hDownloading coloredlogs-15.0.1-py2.py3-none-any.whl (46 kB)\n",
            "\u001b[2K   \u001b[90m━━━━━━━━━━━━━━━━━━━━━━━━━━━━━━━━━━━━━━━━\u001b[0m \u001b[32m46.0/46.0 kB\u001b[0m \u001b[31m4.0 MB/s\u001b[0m eta \u001b[36m0:00:00\u001b[0m\n",
            "\u001b[?25hDownloading wandb-0.17.7-py3-none-manylinux_2_17_x86_64.manylinux2014_x86_64.whl (9.3 MB)\n",
            "\u001b[2K   \u001b[90m━━━━━━━━━━━━━━━━━━━━━━━━━━━━━━━━━━━━━━━━\u001b[0m \u001b[32m9.3/9.3 MB\u001b[0m \u001b[31m78.5 MB/s\u001b[0m eta \u001b[36m0:00:00\u001b[0m\n",
            "\u001b[?25hDownloading docker_pycreds-0.4.0-py2.py3-none-any.whl (9.0 kB)\n",
            "Downloading GitPython-3.1.43-py3-none-any.whl (207 kB)\n",
            "\u001b[2K   \u001b[90m━━━━━━━━━━━━━━━━━━━━━━━━━━━━━━━━━━━━━━━━\u001b[0m \u001b[32m207.3/207.3 kB\u001b[0m \u001b[31m16.3 MB/s\u001b[0m eta \u001b[36m0:00:00\u001b[0m\n",
            "\u001b[?25hDownloading humanfriendly-10.0-py2.py3-none-any.whl (86 kB)\n",
            "\u001b[2K   \u001b[90m━━━━━━━━━━━━━━━━━━━━━━━━━━━━━━━━━━━━━━━━\u001b[0m \u001b[32m86.8/86.8 kB\u001b[0m \u001b[31m8.1 MB/s\u001b[0m eta \u001b[36m0:00:00\u001b[0m\n",
            "\u001b[?25hDownloading sentry_sdk-2.13.0-py2.py3-none-any.whl (309 kB)\n",
            "\u001b[2K   \u001b[90m━━━━━━━━━━━━━━━━━━━━━━━━━━━━━━━━━━━━━━━━\u001b[0m \u001b[32m309.1/309.1 kB\u001b[0m \u001b[31m26.6 MB/s\u001b[0m eta \u001b[36m0:00:00\u001b[0m\n",
            "\u001b[?25hDownloading setproctitle-1.3.3-cp310-cp310-manylinux_2_5_x86_64.manylinux1_x86_64.manylinux_2_17_x86_64.manylinux2014_x86_64.whl (30 kB)\n",
            "Downloading gitdb-4.0.11-py3-none-any.whl (62 kB)\n",
            "\u001b[2K   \u001b[90m━━━━━━━━━━━━━━━━━━━━━━━━━━━━━━━━━━━━━━━━\u001b[0m \u001b[32m62.7/62.7 kB\u001b[0m \u001b[31m5.8 MB/s\u001b[0m eta \u001b[36m0:00:00\u001b[0m\n",
            "\u001b[?25hDownloading smmap-5.0.1-py3-none-any.whl (24 kB)\n",
            "Building wheels for collected packages: antlr4-python3-runtime\n",
            "  Building wheel for antlr4-python3-runtime (setup.py) ... \u001b[?25l\u001b[?25hdone\n",
            "  Created wheel for antlr4-python3-runtime: filename=antlr4_python3_runtime-4.9.3-py3-none-any.whl size=144554 sha256=943e0d671dd108dd9662a4aea870a8456df33db1bec921d29c661eea0e3ed263\n",
            "  Stored in directory: /root/.cache/pip/wheels/12/93/dd/1f6a127edc45659556564c5730f6d4e300888f4bca2d4c5a88\n",
            "Successfully built antlr4-python3-runtime\n",
            "Installing collected packages: antlr4-python3-runtime, smmap, setproctitle, sentry-sdk, omegaconf, humanfriendly, docker-pycreds, gitdb, coloredlogs, gitpython, wandb\n",
            "Successfully installed antlr4-python3-runtime-4.9.3 coloredlogs-15.0.1 docker-pycreds-0.4.0 gitdb-4.0.11 gitpython-3.1.43 humanfriendly-10.0 omegaconf-2.3.0 sentry-sdk-2.13.0 setproctitle-1.3.3 smmap-5.0.1 wandb-0.17.7\n"
          ]
        },
        {
          "data": {
            "application/vnd.colab-display-data+json": {
              "id": "ee766217617c4b5fb763c7d76949d9a7",
              "pip_warning": {
                "packages": [
                  "pydevd_plugins"
                ]
              }
            }
          },
          "metadata": {},
          "output_type": "display_data"
        }
      ],
      "source": [
        "# Clone the public repository (or your repository)\n",
        "# at the moment I am cloning a single branch\n",
        "!git clone --branch reset --single-branch https://github.com/nicolo-vallania/aml23-ego.git aml23-ego\n",
        "\n",
        "# Installing missing dependencies\n",
        "!pip install omegaconf coloredlogs wandb"
      ]
    },
    {
      "cell_type": "markdown",
      "metadata": {
        "id": "tHRNk4oj10Qd"
      },
      "source": [
        "## RGB"
      ]
    },
    {
      "cell_type": "markdown",
      "metadata": {
        "id": "Eb2rFfsg10Qd"
      },
      "source": [
        "### GRU"
      ]
    },
    {
      "cell_type": "code",
      "execution_count": 36,
      "metadata": {
        "colab": {
          "base_uri": "https://localhost:8080/"
        },
        "id": "88YghJyXhbfS",
        "outputId": "e7bd0745-80e5-4225-87fc-f6cb6c01d405"
      },
      "outputs": [
        {
          "name": "stdout",
          "output_type": "stream",
          "text": [
            "Process is terminated.\n"
          ]
        }
      ],
      "source": [
        "\n",
        "%%bash\n",
        "\n",
        "cd aml23-ego\n",
        "\n",
        "num_frames_per_clip=(5 10 25)\n",
        "dense_sampling=(\"True\" \"False\")\n",
        "\n",
        "layers=(1 2 3)\n",
        "dropout=(0 0.33 0.5)\n",
        "\n",
        "for frames in \"${num_frames_per_clip[@]}\"\n",
        "do\n",
        "  for n in \"${layers[@]}\"\n",
        "  do\n",
        "    for mode in \"${dense_sampling[@]}\"\n",
        "    do\n",
        "      for drop_prob in \"${dropout[@]}\"\n",
        "      do\n",
        "        if [ \"$mode\" = \"True\" ]\n",
        "        then\n",
        "          sampling=\"dense\"\n",
        "        else\n",
        "          sampling=\"uniform\"\n",
        "        fi\n",
        "        if [ \"$drop_prob\" = \"0\" ]\n",
        "        then\n",
        "          drop=\"low\"\n",
        "        elif [ \"$drop_prob\" = \"0.33\" ]\n",
        "        then\n",
        "          drop=\"medium\"\n",
        "        else\n",
        "          drop=\"high\"\n",
        "        fi\n",
        "        echo \"Running: frames=$frames, sampling=$sampling, dropout=$drop_prob, layers=$n\"\n",
        "        python train_classifier.py name=GRU_RGB_frames_${frames}_sampling_${sampling}_dropout_${drop}_with_${n}_layers \\\n",
        "          config=configs/train_RGB.yaml \\\n",
        "          train.dense_sampling.RGB=$mode \\\n",
        "          train.num_frames_per_clip.RGB=$frames \\\n",
        "          dataset.shift=D1-D1\\\n",
        "          dataset.RGB.features_name=\"${sampling}_${frames}\"\\\n",
        "          models.RGB.model=GRU_RGB \\\n",
        "          models.RGB.dropout=${drop_prob} \\\n",
        "          models.RGB.n_layers=$n\n",
        "\n",
        "      done\n",
        "    done\n",
        "  done\n",
        "done\n"
      ]
    },
    {
      "cell_type": "markdown",
      "metadata": {
        "id": "hja1iOPb10Qe"
      },
      "source": [
        "### LSTM"
      ]
    },
    {
      "cell_type": "code",
      "execution_count": 26,
      "metadata": {
        "colab": {
          "base_uri": "https://localhost:8080/"
        },
        "id": "gXgnYUi010Qe",
        "outputId": "6f5661a6-d4bc-4558-d7de-ec9c6f7f5076"
      },
      "outputs": [
        {
          "name": "stdout",
          "output_type": "stream",
          "text": [
            "Process is terminated.\n"
          ]
        }
      ],
      "source": [
        "%%bash\n",
        "\n",
        "cd aml23-ego\n",
        "\n",
        "num_frames_per_clip=(5 10 25)\n",
        "dense_sampling=(\"True\" \"False\")\n",
        "layers=(1 2 3)\n",
        "dropout=(0 0.33 0.5)\n",
        "\n",
        "for frames in \"${num_frames_per_clip[@]}\"\n",
        "do\n",
        "  for n in \"${layers[@]}\"\n",
        "  do\n",
        "    for mode in \"${dense_sampling[@]}\"\n",
        "    do\n",
        "      for drop_prob in \"${dropout[@]}\"\n",
        "      do\n",
        "        if [ \"$mode\" = \"True\" ]\n",
        "        then\n",
        "          sampling=\"dense\"\n",
        "        else\n",
        "          sampling=\"uniform\"\n",
        "        fi\n",
        "        if [ \"$drop_prob\" = \"0\" ]\n",
        "        then\n",
        "          drop=\"low\"\n",
        "        elif [ \"$drop_prob\" = \"0.33\" ]\n",
        "        then\n",
        "          drop=\"medium\"\n",
        "        else\n",
        "          drop=\"high\"\n",
        "        fi\n",
        "        echo \"Running: frames=$frames, sampling=$sampling, dropout=$drop_prob, layers=$n\"\n",
        "        python train_classifier.py \\\n",
        "          name=LSTM_RGB_frames_${frames}_sampling_${sampling}_dropout_${drop}_with_${n}_layers \\\n",
        "          config=configs/train_RGB.yaml \\\n",
        "          train.dense_sampling.RGB=$mode \\\n",
        "          train.num_frames_per_clip.RGB=$frames \\\n",
        "          dataset.RGB.features_name=\"${sampling}_${frames}\"\\\n",
        "          dataset.shift=D1-D1 \\\n",
        "          models.RGB.model=LSTM_RGB \\\n",
        "          models.RGB.dropout=${drop_prob} \\\n",
        "          models.RGB.n_layers=$n\n",
        "      done\n",
        "    done\n",
        "  done\n",
        "done\n"
      ]
    },
    {
      "cell_type": "markdown",
      "metadata": {
        "id": "T-BLpYUw10Qe"
      },
      "source": [
        "### MLP"
      ]
    },
    {
      "cell_type": "code",
      "execution_count": null,
      "metadata": {
        "colab": {
          "base_uri": "https://localhost:8080/",
          "height": 1000
        },
        "id": "RJLPZgn910Qf",
        "outputId": "6c86cdfe-e561-4bd4-d350-b8719176cea2"
      },
      "outputs": [],
      "source": [
        "%%bash\n",
        "\n",
        "cd aml23-ego\n",
        "\n",
        "num_frames_per_clip=(5 10 25)\n",
        "dense_sampling=(\"True\" \"False\")\n",
        "dropout=(0 0.33 0.5)\n",
        "\n",
        "for frames in \"${num_frames_per_clip[@]}\"\n",
        "do\n",
        "  for mode in \"${dense_sampling[@]}\"\n",
        "  do\n",
        "    for drop_prob in \"${dropout[@]}\"\n",
        "    do\n",
        "      if [ \"$mode\" = \"True\" ]\n",
        "      then\n",
        "        sampling=\"dense\"\n",
        "      else\n",
        "        sampling=\"uniform\"\n",
        "      fi\n",
        "\n",
        "      if [ \"$drop_prob\" = \"0\" ]\n",
        "      then\n",
        "        drop=\"low\"\n",
        "      elif [ \"$drop_prob\" = \"0.33\" ]\n",
        "      then\n",
        "        drop=\"medium\"\n",
        "      else\n",
        "        drop=\"high\"\n",
        "      fi\n",
        "\n",
        "      echo \"Running: frames=$frames, sampling=$sampling, dropout=$drop_prob\"\n",
        "      python train_classifier.py \\\n",
        "        name=MLP_frames_${frames}_sampling_${sampling}_dropout_${drop} \\\n",
        "        config=configs/train_RGB.yaml \\\n",
        "        train.dense_sampling.RGB=$mode \\\n",
        "        train.num_frames_per_clip.RGB=$frames \\\n",
        "        dataset.shift=D1-D1 \\\n",
        "        models.RGB.model=MLP \\\n",
        "        models.RGB.n_layers=1\\\n",
        "        dataset.RGB.features_name=\"${sampling}_${frames}\"\\\n",
        "        models.RGB.dropout=$drop_prob\n",
        "    done\n",
        "  done\n",
        "done\n"
      ]
    },
    {
      "cell_type": "markdown",
      "metadata": {
        "id": "_8SEextQ10Qf"
      },
      "source": [
        "### TSN (?)"
      ]
    }
  ],
  "metadata": {
    "accelerator": "GPU",
    "colab": {
      "provenance": []
    },
    "gpuClass": "standard",
    "kernelspec": {
      "display_name": "aml22",
      "language": "python",
      "name": "python3"
    },
    "language_info": {
      "codemirror_mode": {
        "name": "ipython",
        "version": 3
      },
      "file_extension": ".py",
      "mimetype": "text/x-python",
      "name": "python",
      "nbconvert_exporter": "python",
      "pygments_lexer": "ipython3",
      "version": "3.7.13"
    },
    "vscode": {
      "interpreter": {
        "hash": "2fc1f0eeae38a5df67b0f713e03196095ce1bfa55aa551576e8e58c2ba904c5a"
      }
    }
  },
  "nbformat": 4,
  "nbformat_minor": 0
}

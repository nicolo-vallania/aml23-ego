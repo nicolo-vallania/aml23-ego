{
  "cells": [
    {
      "attachments": {},
      "cell_type": "markdown",
      "metadata": {
        "colab_type": "text",
        "id": "view-in-github"
      },
      "source": [
        "<a href=\"https://colab.research.google.com/github/EgovisionPolito/aml23-ego/blob/master/colab_runner.ipynb\" target=\"_parent\"><img src=\"https://colab.research.google.com/assets/colab-badge.svg\" alt=\"Open In Colab\"/></a>"
      ]
    },
    {
      "cell_type": "markdown",
      "metadata": {},
      "source": [
        "# Training different models"
      ]
    },
    {
      "cell_type": "code",
      "execution_count": null,
      "metadata": {},
      "outputs": [],
      "source": [
        "# Clone the public repository (or your repository)\n",
        "# at the moment I am cloning a single branch\n",
        "!git clone --branch reset --single-branch https://github.com/nicolo-vallania/aml23-ego.git aml23-ego\n",
        "\n",
        "# Installing missing dependencies\n",
        "!pip install omegaconf coloredlogs wandb"
      ]
    },
    {
      "cell_type": "markdown",
      "metadata": {},
      "source": [
        "## RGB"
      ]
    },
    {
      "cell_type": "markdown",
      "metadata": {},
      "source": [
        "### GRU"
      ]
    },
    {
      "cell_type": "code",
      "execution_count": null,
      "metadata": {
        "id": "88YghJyXhbfS"
      },
      "outputs": [],
      "source": [
        "\n",
        "%%bash\n",
        "\n",
        "num_frames_per_clip=(5 10 25)\n",
        "dense_sampling=(\"True\" \"False\")\n",
        "\n",
        "layers=(1 2 3)\n",
        "dropout=(0 0.33 0.5)\n",
        "\n",
        "for frames in ${num_frames[@]}\n",
        "do\n",
        "  for n in ${layers[@]}\n",
        "  do\n",
        "    for mode in ${dense_sampling[@]}\n",
        "    do\n",
        "      for drop_prob in ${dropout[@]}\n",
        "      do\n",
        "        if mode == \"True\"\n",
        "          sampling = \"dense\"\n",
        "        else sampling = \"uniform\"\n",
        "        python train_classifier.py name=GRU_RGB_frames_$frames_sampling_dropout_$(drop_prob)_with_$(n)_layers\\\n",
        "            config=configs/train_RGB.yaml \\\n",
        "            train.dense_sampling.RGB=$mode \\\n",
        "            train.num_frames_per_clip.RGB=$frames \\\n",
        "            models.RGB.model=GRU_LSTM \\\n",
        "            models.RGB.dropout=$drop_prob \\\n",
        "            models.RGB.n_layers=$n\\\n",
        "      done\n",
        "    done\n",
        "  done\n",
        "done"
      ]
    },
    {
      "cell_type": "markdown",
      "metadata": {},
      "source": [
        "### LSTM"
      ]
    },
    {
      "cell_type": "code",
      "execution_count": null,
      "metadata": {},
      "outputs": [],
      "source": [
        "%%bash\n",
        "\n",
        "num_frames_per_clip=(5 10 25)\n",
        "dense_sampling=(\"True\" \"False\")\n",
        "\n",
        "layers=(1 2 3)\n",
        "dropout=(0 0.33 0.5)\n",
        "\n",
        "for frames in ${num_frames[@]}\n",
        "do\n",
        "  for n in ${layers[@]}\n",
        "  do\n",
        "    for mode in ${dense_sampling[@]}\n",
        "    do\n",
        "      for drop_prob in ${dropout[@]}\n",
        "      do\n",
        "        if mode == \"True\"\n",
        "          sampling = \"dense\"\n",
        "        else sampling = \"uniform\"\n",
        "        python train_classifier.py name=LSTM_RGB_frames_$frames_sampling_dropout_$(drop_prob)_with_$(n)_layers\\\n",
        "            config=configs/train_RGB.yaml \\\n",
        "            train.dense_sampling.RGB=$mode \\\n",
        "            train.num_frames_per_clip.RGB=$frames \\\n",
        "            models.RGB.model=LSTM_RGB \\\n",
        "            models.RGB.dropout=$drop_prob \\\n",
        "            models.RGB.n_layers=$n\\\n",
        "      done\n",
        "    done\n",
        "  done\n",
        "done"
      ]
    },
    {
      "cell_type": "markdown",
      "metadata": {},
      "source": [
        "### MLP"
      ]
    },
    {
      "cell_type": "code",
      "execution_count": null,
      "metadata": {},
      "outputs": [],
      "source": [
        "%%bash\n",
        "\n",
        "num_frames_per_clip=(5 10 25)\n",
        "dense_sampling=(\"True\" \"False\")\n",
        "\n",
        "dropout=(0 0.33 0.5)\n",
        "\n",
        "for frames in ${num_frames[@]}\n",
        "do\n",
        "for mode in ${dense_sampling[@]}\n",
        "do\n",
        "    for drop_prob in ${dropout[@]}\n",
        "    do\n",
        "    if mode == \"True\"\n",
        "        sampling = \"dense\"\n",
        "    else sampling = \"uniform\"\n",
        "    python train_classifier.py name=MLP_frames_$frames_sampling_dropout_$(drop_prob)\\\n",
        "        config=configs/train_RGB.yaml \\\n",
        "        train.dense_sampling.RGB=$mode \\\n",
        "        train.num_frames_per_clip.RGB=$frames \\\n",
        "        models.RGB.model=MLP \\\n",
        "        models.RGB.dropout=$drop_prob \\\n",
        "    done\n",
        "  done\n",
        "done"
      ]
    },
    {
      "cell_type": "markdown",
      "metadata": {},
      "source": [
        "### TSN (?)"
      ]
    }
  ],
  "metadata": {
    "accelerator": "GPU",
    "colab": {
      "authorship_tag": "ABX9TyMA44pwS84HIKtaEclSmH2W",
      "include_colab_link": true,
      "provenance": []
    },
    "gpuClass": "standard",
    "kernelspec": {
      "display_name": "aml22",
      "language": "python",
      "name": "python3"
    },
    "language_info": {
      "codemirror_mode": {
        "name": "ipython",
        "version": 3
      },
      "file_extension": ".py",
      "mimetype": "text/x-python",
      "name": "python",
      "nbconvert_exporter": "python",
      "pygments_lexer": "ipython3",
      "version": "3.7.13"
    },
    "vscode": {
      "interpreter": {
        "hash": "2fc1f0eeae38a5df67b0f713e03196095ce1bfa55aa551576e8e58c2ba904c5a"
      }
    }
  },
  "nbformat": 4,
  "nbformat_minor": 0
}
